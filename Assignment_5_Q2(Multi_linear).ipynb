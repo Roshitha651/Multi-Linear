{
  "nbformat": 4,
  "nbformat_minor": 0,
  "metadata": {
    "colab": {
      "name": "Assignment_5_Q2(Multi_linear).ipynb",
      "provenance": []
    },
    "kernelspec": {
      "name": "python3",
      "display_name": "Python 3"
    },
    "language_info": {
      "name": "python"
    }
  },
  "cells": [
    {
      "cell_type": "code",
      "execution_count": null,
      "metadata": {
        "id": "8eKi9sIhaIDW"
      },
      "outputs": [],
      "source": [
        "import pandas as pd\n",
        "import numpy as np\n",
        "import matplotlib.pyplot as plt\n",
        "import seaborn as sns\n",
        "import statsmodels.formula.api as smf\n",
        "import statsmodels.api as sm\n",
        "from statsmodels.graphics.regressionplots import influence_plot"
      ]
    },
    {
      "cell_type": "code",
      "source": [
        "data=pd.read_csv(\"50_Startups.csv\")\n",
        "data"
      ],
      "metadata": {
        "id": "URtgowT6anLQ"
      },
      "execution_count": null,
      "outputs": []
    },
    {
      "cell_type": "markdown",
      "source": [
        "**EDA**"
      ],
      "metadata": {
        "id": "yrWL7QNbawTS"
      }
    },
    {
      "cell_type": "code",
      "source": [
        "data.info()"
      ],
      "metadata": {
        "id": "iAZu2vqOaqq7"
      },
      "execution_count": null,
      "outputs": []
    },
    {
      "cell_type": "code",
      "source": [
        "data1=data.rename({'R&D Spend':'RDS','Administration':'ADMS','Marketing Spend':'MKTS'},axis=1)\n",
        "data1"
      ],
      "metadata": {
        "id": "crI3RbhUa4vp"
      },
      "execution_count": null,
      "outputs": []
    },
    {
      "cell_type": "code",
      "source": [
        "data1[data1.duplicated()]"
      ],
      "metadata": {
        "id": "pSlZOXy5a7Zo"
      },
      "execution_count": null,
      "outputs": []
    },
    {
      "cell_type": "code",
      "source": [
        "data1.describe()"
      ],
      "metadata": {
        "id": "nrEOabe4bAvt"
      },
      "execution_count": null,
      "outputs": []
    },
    {
      "cell_type": "markdown",
      "source": [
        "**Correlation Analysis**"
      ],
      "metadata": {
        "id": "NOBX7Or-bJNX"
      }
    },
    {
      "cell_type": "code",
      "source": [
        "data1.corr()"
      ],
      "metadata": {
        "id": "0ii8xwGLb5xc"
      },
      "execution_count": null,
      "outputs": []
    },
    {
      "cell_type": "code",
      "source": [
        "sns.set_style(style='darkgrid')\n",
        "sns.pairplot(data1)"
      ],
      "metadata": {
        "id": "k85PqDNhb_j1"
      },
      "execution_count": null,
      "outputs": []
    },
    {
      "cell_type": "markdown",
      "source": [
        "**Model Building**"
      ],
      "metadata": {
        "id": "_PV-ezFRcqBW"
      }
    },
    {
      "cell_type": "code",
      "source": [
        "model=smf.ols(\"Profit~RDS+ADMS+MKTS\",data=data1).fit()"
      ],
      "metadata": {
        "id": "h-dO8IwwcCSD"
      },
      "execution_count": null,
      "outputs": []
    },
    {
      "cell_type": "markdown",
      "source": [
        "**Model Testing** "
      ],
      "metadata": {
        "id": "Zr300HYOcg6_"
      }
    },
    {
      "cell_type": "code",
      "source": [
        "model.params"
      ],
      "metadata": {
        "id": "2EAgjJDhccyB"
      },
      "execution_count": null,
      "outputs": []
    },
    {
      "cell_type": "code",
      "source": [
        "model.tvalues , np.round(model.pvalues,5)"
      ],
      "metadata": {
        "id": "TDgZjlTqc0zh"
      },
      "execution_count": null,
      "outputs": []
    },
    {
      "cell_type": "code",
      "source": [
        "model.rsquared , model.rsquared_adj  "
      ],
      "metadata": {
        "id": "3akero5Pc4Lg"
      },
      "execution_count": null,
      "outputs": []
    },
    {
      "cell_type": "code",
      "source": [
        "slr_a=smf.ols(\"Profit~ADMS\",data=data1).fit()\n",
        "slr_a.tvalues , slr_a.pvalues "
      ],
      "metadata": {
        "id": "JQoR0k1kc7Hu"
      },
      "execution_count": null,
      "outputs": []
    },
    {
      "cell_type": "code",
      "source": [
        "slr_m=smf.ols(\"Profit~MKTS\",data=data1).fit()\n",
        "slr_m.tvalues , slr_m.pvalues "
      ],
      "metadata": {
        "id": "raFaz6H8dAfp"
      },
      "execution_count": null,
      "outputs": []
    },
    {
      "cell_type": "code",
      "source": [
        "mlr_am=smf.ols(\"Profit~ADMS+MKTS\",data=data1).fit()\n",
        "mlr_am.tvalues , mlr_am.pvalues "
      ],
      "metadata": {
        "id": "0ZxpWejEdDfu"
      },
      "execution_count": null,
      "outputs": []
    },
    {
      "cell_type": "markdown",
      "source": [
        "# Model Validation"
      ],
      "metadata": {
        "id": "CoNU2EiTdJ6B"
      }
    },
    {
      "cell_type": "markdown",
      "source": [
        "Two Techniques: 1. Collinearity Check & 2. Residual Analysis"
      ],
      "metadata": {
        "id": "XviJwr50dPjE"
      }
    },
    {
      "cell_type": "code",
      "source": [
        "rsq_r=smf.ols(\"RDS~ADMS+MKTS\",data=data1).fit().rsquared\n",
        "vif_r=1/(1-rsq_r)\n",
        "\n",
        "rsq_a=smf.ols(\"ADMS~RDS+MKTS\",data=data1).fit().rsquared\n",
        "vif_a=1/(1-rsq_a)\n",
        "\n",
        "rsq_m=smf.ols(\"MKTS~RDS+ADMS\",data=data1).fit().rsquared\n",
        "vif_m=1/(1-rsq_m)\n",
        "\n",
        "# Putting the values in Dataframe format\n",
        "d1={'Variables':['RDS','ADMS','MKTS'],'Vif':[vif_r,vif_a,vif_m]}\n",
        "Vif_df=pd.DataFrame(d1)\n",
        "Vif_df"
      ],
      "metadata": {
        "id": "pe77FoB6dGwM"
      },
      "execution_count": null,
      "outputs": []
    },
    {
      "cell_type": "code",
      "source": [
        "sm.qqplot(model.resid,line='q')\n",
        "plt.title(\"Normal Q-Q plot of residuals\")\n",
        "plt.show()"
      ],
      "metadata": {
        "id": "VypoRalXdVJ9"
      },
      "execution_count": null,
      "outputs": []
    },
    {
      "cell_type": "code",
      "source": [
        "list(np.where(model.resid<-30000))"
      ],
      "metadata": {
        "id": "BkPreGUPdejR"
      },
      "execution_count": null,
      "outputs": []
    },
    {
      "cell_type": "code",
      "source": [
        "def standard_values(vals) : return (vals-vals.mean())/vals.std() "
      ],
      "metadata": {
        "id": "eQAKSersdhIG"
      },
      "execution_count": null,
      "outputs": []
    },
    {
      "cell_type": "code",
      "source": [
        "plt.scatter(standard_values(model.fittedvalues),standard_values(model.resid))\n",
        "plt.title('Residual Plot')\n",
        "plt.xlabel('standardized fitted values')\n",
        "plt.ylabel('standardized residual values')\n",
        "plt.show()"
      ],
      "metadata": {
        "id": "8KjeR95bdrVV"
      },
      "execution_count": null,
      "outputs": []
    },
    {
      "cell_type": "code",
      "source": [
        "fig=plt.figure(figsize=(15,8))\n",
        "sm.graphics.plot_regress_exog(model,'RDS',fig=fig)\n",
        "plt.show()"
      ],
      "metadata": {
        "id": "BzyyEbWodtxp"
      },
      "execution_count": null,
      "outputs": []
    },
    {
      "cell_type": "code",
      "source": [
        "fig=plt.figure(figsize=(15,8))\n",
        "sm.graphics.plot_regress_exog(model,'ADMS',fig=fig)\n",
        "plt.show()"
      ],
      "metadata": {
        "id": "0xrpd_xvdxN-"
      },
      "execution_count": null,
      "outputs": []
    },
    {
      "cell_type": "code",
      "source": [
        "fig=plt.figure(figsize=(15,8))\n",
        "sm.graphics.plot_regress_exog(model,'MKTS',fig=fig)\n",
        "plt.show()"
      ],
      "metadata": {
        "id": "PTvEaiwid1hI"
      },
      "execution_count": null,
      "outputs": []
    },
    {
      "cell_type": "markdown",
      "source": [
        "**Model Deletion Diagnostics (checking Outliers or Influencers)**"
      ],
      "metadata": {
        "id": "4of_QZL9d-zU"
      }
    },
    {
      "cell_type": "markdown",
      "source": [
        "**Two Techniques : 1. Cook's Distance & 2. Leverage value**"
      ],
      "metadata": {
        "id": "gZWe8LvbeHoR"
      }
    },
    {
      "cell_type": "code",
      "source": [
        "(c,_)=model.get_influence().cooks_distance\n",
        "c"
      ],
      "metadata": {
        "id": "N6c91Zb2d5BY"
      },
      "execution_count": null,
      "outputs": []
    },
    {
      "cell_type": "code",
      "source": [
        "fig=plt.figure(figsize=(20,7))\n",
        "plt.stem(np.arange(len(data1)),np.round(c,5))\n",
        "plt.xlabel('Row Index')\n",
        "plt.ylabel('Cooks Distance')\n",
        "plt.show()"
      ],
      "metadata": {
        "id": "3oiXd-7neWAN"
      },
      "execution_count": null,
      "outputs": []
    },
    {
      "cell_type": "code",
      "source": [
        "np.argmax(c) , np.max(c)"
      ],
      "metadata": {
        "id": "WCQBqYD0ebNb"
      },
      "execution_count": null,
      "outputs": []
    },
    {
      "cell_type": "code",
      "source": [
        "influence_plot(model)\n",
        "plt.show()"
      ],
      "metadata": {
        "id": "plJvrIbIeeN_"
      },
      "execution_count": null,
      "outputs": []
    },
    {
      "cell_type": "code",
      "source": [
        "k=data1.shape[1]\n",
        "n=data1.shape[0]\n",
        "leverage_cutoff = (3*(k+1))/n\n",
        "leverage_cutoff"
      ],
      "metadata": {
        "id": "juu9qLoCeg3-"
      },
      "execution_count": null,
      "outputs": []
    },
    {
      "cell_type": "code",
      "source": [
        "data1[data1.index.isin([49])]"
      ],
      "metadata": {
        "id": "2HyiX0cqekKP"
      },
      "execution_count": null,
      "outputs": []
    },
    {
      "cell_type": "markdown",
      "source": [
        "**Improving the Model**"
      ],
      "metadata": {
        "id": "Oq5UrZqsetDo"
      }
    },
    {
      "cell_type": "code",
      "source": [
        "data2=data1.drop(data1.index[[49]],axis=0).reset_index(drop=True)\n",
        "data2"
      ],
      "metadata": {
        "id": "B5wtsi0oemq4"
      },
      "execution_count": null,
      "outputs": []
    },
    {
      "cell_type": "markdown",
      "source": [
        "**Model Deletion Diagnostics and Final Model**"
      ],
      "metadata": {
        "id": "d4_i7k0ke4h9"
      }
    },
    {
      "cell_type": "code",
      "source": [
        "while np.max(c)>0.5 :\n",
        "    model=smf.ols(\"Profit~RDS+ADMS+MKTS\",data=data2).fit()\n",
        "    (c,_)=model.get_influence().cooks_distance\n",
        "    c\n",
        "    np.argmax(c) , np.max(c)\n",
        "    data2=data2.drop(data2.index[[np.argmax(c)]],axis=0).reset_index(drop=True)\n",
        "    data2\n",
        "else:\n",
        "    final_model=smf.ols(\"Profit~RDS+ADMS+MKTS\",data=data2).fit()\n",
        "    final_model.rsquared , final_model.aic\n",
        "    print(\"Thus model accuracy is improved to\",final_model.rsquared)\n",
        "    "
      ],
      "metadata": {
        "id": "k_JIORdXe0Vx"
      },
      "execution_count": null,
      "outputs": []
    },
    {
      "cell_type": "code",
      "source": [
        "final_model.rsquared"
      ],
      "metadata": {
        "id": "V9k5s_mJfCCh"
      },
      "execution_count": null,
      "outputs": []
    },
    {
      "cell_type": "code",
      "source": [
        "data2"
      ],
      "metadata": {
        "id": "s-tGqCC2fGMh"
      },
      "execution_count": null,
      "outputs": []
    },
    {
      "cell_type": "markdown",
      "source": [
        "**Model Predictions**"
      ],
      "metadata": {
        "id": "cCv3uM47fOhP"
      }
    },
    {
      "cell_type": "code",
      "source": [
        "new_data=pd.DataFrame({'RDS':70000,\"ADMS\":90000,\"MKTS\":140000},index=[0])\n",
        "new_data "
      ],
      "metadata": {
        "id": "PzMkCfeqfJau"
      },
      "execution_count": null,
      "outputs": []
    },
    {
      "cell_type": "code",
      "source": [
        "final_model.predict(new_data)"
      ],
      "metadata": {
        "id": "iaZWtYCafYo2"
      },
      "execution_count": null,
      "outputs": []
    },
    {
      "cell_type": "code",
      "source": [
        "pred_y=final_model.predict(data2)\n",
        "pred_y"
      ],
      "metadata": {
        "id": "GeFzb6ckfbw8"
      },
      "execution_count": null,
      "outputs": []
    },
    {
      "cell_type": "markdown",
      "source": [
        "**table containing R^2 value for each prepared model**"
      ],
      "metadata": {
        "id": "XCY9NetVfneK"
      }
    },
    {
      "cell_type": "code",
      "source": [
        "d2={'Prep_Models':['Model','Final_Model'],'Rsquared':[model.rsquared,final_model.rsquared]}\n",
        "table=pd.DataFrame(d2)\n",
        "table"
      ],
      "metadata": {
        "id": "FdOBwgA5fiOo"
      },
      "execution_count": null,
      "outputs": []
    },
    {
      "cell_type": "code",
      "source": [
        ""
      ],
      "metadata": {
        "id": "lC7c4TyJfsHp"
      },
      "execution_count": null,
      "outputs": []
    }
  ]
}