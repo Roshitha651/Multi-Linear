{
  "nbformat": 4,
  "nbformat_minor": 0,
  "metadata": {
    "colab": {
      "name": "Assignment_5_Q1(Multi_Linear).ipynb",
      "provenance": []
    },
    "kernelspec": {
      "name": "python3",
      "display_name": "Python 3"
    },
    "language_info": {
      "name": "python"
    }
  },
  "cells": [
    {
      "cell_type": "code",
      "execution_count": null,
      "metadata": {
        "id": "hq_VYvbpCGfM"
      },
      "outputs": [],
      "source": [
        "import pandas as pd\n",
        "import numpy as np\n",
        "import matplotlib.pyplot as plt\n",
        "import seaborn as sns\n",
        "import statsmodels.formula.api as smf\n",
        "import statsmodels.api as sm\n",
        "from statsmodels.graphics.regressionplots import influence_plot"
      ]
    },
    {
      "cell_type": "code",
      "source": [
        "toyo=pd.read_csv('ToyotaCorolla.csv',encoding='latin1')\n",
        "toyo"
      ],
      "metadata": {
        "id": "2tBbQgmnCpC6"
      },
      "execution_count": null,
      "outputs": []
    },
    {
      "cell_type": "markdown",
      "source": [
        "# **EDA**"
      ],
      "metadata": {
        "id": "Fi1wbBCLC6tA"
      }
    },
    {
      "cell_type": "code",
      "source": [
        "toyo.info()"
      ],
      "metadata": {
        "id": "HIIYgqwFC3r2"
      },
      "execution_count": null,
      "outputs": []
    },
    {
      "cell_type": "code",
      "source": [
        "toyo2=pd.concat([toyo.iloc[:,2:4],toyo.iloc[:,6:7],toyo.iloc[:,8:9],toyo.iloc[:,12:14],toyo.iloc[:,15:18]],axis=1)\n",
        "toyo2"
      ],
      "metadata": {
        "id": "Zygk7yWgDB70"
      },
      "execution_count": null,
      "outputs": []
    },
    {
      "cell_type": "code",
      "source": [
        "toyo3=toyo2.rename({'Age_08_04':'Age','cc':'CC','Quarterly_Tax':'QT'},axis=1)\n",
        "toyo3"
      ],
      "metadata": {
        "id": "wUuqdQiADS5U"
      },
      "execution_count": null,
      "outputs": []
    },
    {
      "cell_type": "code",
      "source": [
        "toyo3[toyo3.duplicated()]"
      ],
      "metadata": {
        "id": "ZpQJcPMDDXkm"
      },
      "execution_count": null,
      "outputs": []
    },
    {
      "cell_type": "code",
      "source": [
        "toyo4=toyo3.drop_duplicates().reset_index(drop=True)\n",
        "toyo4"
      ],
      "metadata": {
        "id": "m_x9NDMjDaO6"
      },
      "execution_count": null,
      "outputs": []
    },
    {
      "cell_type": "code",
      "source": [
        "toyo4.describe()"
      ],
      "metadata": {
        "id": "twYyIkPHDdpa"
      },
      "execution_count": null,
      "outputs": []
    },
    {
      "cell_type": "markdown",
      "source": [
        "# **Correlation Analysis**"
      ],
      "metadata": {
        "id": "IcFD_qHTDjFj"
      }
    },
    {
      "cell_type": "code",
      "source": [
        "toyo4.corr()"
      ],
      "metadata": {
        "id": "n-yabPDhDgkk"
      },
      "execution_count": null,
      "outputs": []
    },
    {
      "cell_type": "code",
      "source": [
        "sns.set_style(style='darkgrid')\n",
        "sns.pairplot(toyo4)"
      ],
      "metadata": {
        "id": "ENr_v3KzD6Jr"
      },
      "execution_count": null,
      "outputs": []
    },
    {
      "cell_type": "markdown",
      "source": [
        "# **Model Building**"
      ],
      "metadata": {
        "id": "PompfRb1EM8G"
      }
    },
    {
      "cell_type": "code",
      "source": [
        "model=smf.ols('Price~Age+KM+HP+CC+Doors+Gears+QT+Weight',data=toyo4).fit()"
      ],
      "metadata": {
        "id": "KkqiM-XrD9PK"
      },
      "execution_count": null,
      "outputs": []
    },
    {
      "cell_type": "markdown",
      "source": [
        "# **Model Testing**"
      ],
      "metadata": {
        "id": "0bSEYDU5EZB9"
      }
    },
    {
      "cell_type": "code",
      "source": [
        "model.params"
      ],
      "metadata": {
        "id": "IaTxMH2pEWgv"
      },
      "execution_count": null,
      "outputs": []
    },
    {
      "cell_type": "code",
      "source": [
        "model.tvalues , np.round(model.pvalues,5)"
      ],
      "metadata": {
        "id": "f1DfKKPgEifZ"
      },
      "execution_count": null,
      "outputs": []
    },
    {
      "cell_type": "code",
      "source": [
        "model.rsquared , model.rsquared_adj "
      ],
      "metadata": {
        "id": "gzAdPjVdEmel"
      },
      "execution_count": null,
      "outputs": []
    },
    {
      "cell_type": "code",
      "source": [
        "slr_c=smf.ols('Price~CC',data=toyo4).fit()\n",
        "slr_c.tvalues , slr_c.pvalues"
      ],
      "metadata": {
        "id": "B8D-0Mu-Eqq7"
      },
      "execution_count": null,
      "outputs": []
    },
    {
      "cell_type": "code",
      "source": [
        "slr_d=smf.ols('Price~Doors',data=toyo4).fit()\n",
        "slr_d.tvalues , slr_d.pvalues"
      ],
      "metadata": {
        "id": "tKaActvoEt-n"
      },
      "execution_count": null,
      "outputs": []
    },
    {
      "cell_type": "code",
      "source": [
        "mlr_cd=smf.ols('Price~CC+Doors',data=toyo4).fit()\n",
        "mlr_cd.tvalues , mlr_cd.pvalues"
      ],
      "metadata": {
        "id": "XAuSUqtKEx7P"
      },
      "execution_count": null,
      "outputs": []
    },
    {
      "cell_type": "markdown",
      "source": [
        "# **Model Validation Techniques**"
      ],
      "metadata": {
        "id": "fq7ax-2rE4_e"
      }
    },
    {
      "cell_type": "code",
      "source": [
        "rsq_age=smf.ols('Age~KM+HP+CC+Doors+Gears+QT+Weight',data=toyo4).fit().rsquared\n",
        "vif_age=1/(1-rsq_age)\n",
        "\n",
        "rsq_KM=smf.ols('KM~Age+HP+CC+Doors+Gears+QT+Weight',data=toyo4).fit().rsquared\n",
        "vif_KM=1/(1-rsq_KM)\n",
        "\n",
        "rsq_HP=smf.ols('HP~Age+KM+CC+Doors+Gears+QT+Weight',data=toyo4).fit().rsquared\n",
        "vif_HP=1/(1-rsq_HP)\n",
        "\n",
        "rsq_CC=smf.ols('CC~Age+KM+HP+Doors+Gears+QT+Weight',data=toyo4).fit().rsquared\n",
        "vif_CC=1/(1-rsq_CC)\n",
        "\n",
        "rsq_DR=smf.ols('Doors~Age+KM+HP+CC+Gears+QT+Weight',data=toyo4).fit().rsquared\n",
        "vif_DR=1/(1-rsq_DR)\n",
        "\n",
        "rsq_GR=smf.ols('Gears~Age+KM+HP+CC+Doors+QT+Weight',data=toyo4).fit().rsquared\n",
        "vif_GR=1/(1-rsq_GR)\n",
        "\n",
        "rsq_QT=smf.ols('QT~Age+KM+HP+CC+Doors+Gears+Weight',data=toyo4).fit().rsquared\n",
        "vif_QT=1/(1-rsq_QT)\n",
        "\n",
        "rsq_WT=smf.ols('Weight~Age+KM+HP+CC+Doors+Gears+QT',data=toyo4).fit().rsquared\n",
        "vif_WT=1/(1-rsq_WT)\n",
        "d1={'Variables':['Age','KM','HP','CC','Doors','Gears','QT','Weight'],\n",
        "    'Vif':[vif_age,vif_KM,vif_HP,vif_CC,vif_DR,vif_GR,vif_QT,vif_WT]}\n",
        "Vif_df=pd.DataFrame(d1)\n",
        "Vif_df"
      ],
      "metadata": {
        "id": "cNeLS5X4E1Dq"
      },
      "execution_count": null,
      "outputs": []
    },
    {
      "cell_type": "code",
      "source": [
        "sm.qqplot(model.resid,line='q') # 'q' - A line is fit through the quartiles # line = '45'- to draw the 45-degree diagonal line\n",
        "plt.title(\"Normal Q-Q plot of residuals\")\n",
        "plt.show()"
      ],
      "metadata": {
        "id": "onoztNEhFI4Q"
      },
      "execution_count": null,
      "outputs": []
    },
    {
      "cell_type": "code",
      "source": [
        "list(np.where(model.resid>6000))"
      ],
      "metadata": {
        "id": "KrUGA51aFSsZ"
      },
      "execution_count": null,
      "outputs": []
    },
    {
      "cell_type": "code",
      "source": [
        "list(np.where(model.resid<-6000)) "
      ],
      "metadata": {
        "id": "qbNEDy3cFYFr"
      },
      "execution_count": null,
      "outputs": []
    },
    {
      "cell_type": "markdown",
      "source": [
        "Test for Homoscedasticity or Heteroscedasticity (plotting model's standardized fitted values vs standardized residual values)\n",
        "\n",
        "def standard_values(vals) : return (vals-vals.mean())/vals.std() # User defined z = (x - mu)/sigma"
      ],
      "metadata": {
        "id": "62AfpllJGO5Q"
      }
    },
    {
      "cell_type": "code",
      "source": [
        "fig=plt.figure(figsize=(15,8))\n",
        "sm.graphics.plot_regress_exog(model,'Age',fig=fig)\n",
        "plt.show()\n"
      ],
      "metadata": {
        "id": "XAThjOD-GXaA"
      },
      "execution_count": null,
      "outputs": []
    },
    {
      "cell_type": "code",
      "source": [
        "fig=plt.figure(figsize=(15,8))\n",
        "sm.graphics.plot_regress_exog(model,'KM',fig=fig)\n",
        "plt.show()"
      ],
      "metadata": {
        "id": "CNh_Y6PiGa6D"
      },
      "execution_count": null,
      "outputs": []
    },
    {
      "cell_type": "code",
      "source": [
        "fig=plt.figure(figsize=(15,8))\n",
        "sm.graphics.plot_regress_exog(model,'HP',fig=fig)\n",
        "plt.show()"
      ],
      "metadata": {
        "id": "pgl1jyWDGgvI"
      },
      "execution_count": null,
      "outputs": []
    },
    {
      "cell_type": "code",
      "source": [
        "fig=plt.figure(figsize=(15,8))\n",
        "sm.graphics.plot_regress_exog(model,'CC',fig=fig)\n",
        "plt.show()\n"
      ],
      "metadata": {
        "id": "YscGUi9GGljf"
      },
      "execution_count": null,
      "outputs": []
    },
    {
      "cell_type": "code",
      "source": [
        "fig=plt.figure(figsize=(15,8))\n",
        "sm.graphics.plot_regress_exog(model,'Doors',fig=fig)\n",
        "plt.show()"
      ],
      "metadata": {
        "id": "4YUfGp5pGsIF"
      },
      "execution_count": null,
      "outputs": []
    },
    {
      "cell_type": "code",
      "source": [
        "fig=plt.figure(figsize=(15,8))\n",
        "sm.graphics.plot_regress_exog(model,'Gears',fig=fig)\n",
        "plt.show()"
      ],
      "metadata": {
        "id": "0yW3BqicGwo9"
      },
      "execution_count": null,
      "outputs": []
    },
    {
      "cell_type": "code",
      "source": [
        "fig=plt.figure(figsize=(15,8))\n",
        "sm.graphics.plot_regress_exog(model,'QT',fig=fig)\n",
        "plt.show()"
      ],
      "metadata": {
        "id": "IO1-4cBCG2pF"
      },
      "execution_count": null,
      "outputs": []
    },
    {
      "cell_type": "code",
      "source": [
        "fig=plt.figure(figsize=(15,8))\n",
        "sm.graphics.plot_regress_exog(model,'Weight',fig=fig)\n",
        "plt.show()"
      ],
      "metadata": {
        "id": "cSY42gJeG7JE"
      },
      "execution_count": null,
      "outputs": []
    },
    {
      "cell_type": "markdown",
      "source": [
        "# Model Deletion Diagnostics (checking Outliers or Influencers)\n",
        "**Two Techniques : 1. Cook's Distance & 2. Leverage value**"
      ],
      "metadata": {
        "id": "VShxWO5DHL7w"
      }
    },
    {
      "cell_type": "code",
      "source": [
        "(c,_)=model.get_influence().cooks_distance\n",
        "c"
      ],
      "metadata": {
        "id": "VOrnQ59YHV8p"
      },
      "execution_count": null,
      "outputs": []
    },
    {
      "cell_type": "code",
      "source": [
        "fig=plt.figure(figsize=(20,7))\n",
        "plt.stem(np.arange(len(toyo4)),np.round(c,3))\n",
        "plt.xlabel('Row Index')\n",
        "plt.ylabel('Cooks Distance')\n",
        "plt.show()"
      ],
      "metadata": {
        "id": "FCLGZbUyHZAN"
      },
      "execution_count": null,
      "outputs": []
    },
    {
      "cell_type": "code",
      "source": [
        "np.argmax(c) , np.max(c)"
      ],
      "metadata": {
        "id": "Qfn78ZFuHbpu"
      },
      "execution_count": null,
      "outputs": []
    },
    {
      "cell_type": "code",
      "source": [
        "fig,ax=plt.subplots(figsize=(20,20))\n",
        "fig=influence_plot(model,ax = ax)"
      ],
      "metadata": {
        "id": "vO8-HRQsHgBS"
      },
      "execution_count": null,
      "outputs": []
    },
    {
      "cell_type": "code",
      "source": [
        "k=toyo4.shape[1]\n",
        "n=toyo4.shape[0]\n",
        "leverage_cutoff = (3*(k+1))/n\n",
        "leverage_cutoff"
      ],
      "metadata": {
        "id": "Sp97sFN7HkLE"
      },
      "execution_count": null,
      "outputs": []
    },
    {
      "cell_type": "code",
      "source": [
        "toyo4[toyo4.index.isin([80])] "
      ],
      "metadata": {
        "id": "yzYztqYAHpug"
      },
      "execution_count": null,
      "outputs": []
    },
    {
      "cell_type": "markdown",
      "source": [
        "# Improving the Model"
      ],
      "metadata": {
        "id": "y0AXwThhHwe0"
      }
    },
    {
      "cell_type": "code",
      "source": [
        "toyo_new=toyo4.copy()\n",
        "toyo_new\n"
      ],
      "metadata": {
        "id": "lFxsWaHqHsP7"
      },
      "execution_count": null,
      "outputs": []
    },
    {
      "cell_type": "code",
      "source": [
        "toyo5=toyo_new.drop(toyo_new.index[[80]],axis=0).reset_index(drop=True)\n",
        "toyo5"
      ],
      "metadata": {
        "id": "52VWoRXZH4OY"
      },
      "execution_count": null,
      "outputs": []
    },
    {
      "cell_type": "markdown",
      "source": [
        "# Model Deletion Diagnostics and Final Model"
      ],
      "metadata": {
        "id": "qNRLPXIiIEIn"
      }
    },
    {
      "cell_type": "code",
      "source": [
        "while np.max(c)>0.5 :\n",
        "    model=smf.ols('Price~Age+KM+HP+CC+Doors+Gears+QT+Weight',data=toyo5).fit()\n",
        "    (c,_)=model.get_influence().cooks_distance\n",
        "    c\n",
        "    np.argmax(c) , np.max(c)\n",
        "    toyo5=toyo5.drop(toyo5.index[[np.argmax(c)]],axis=0).reset_index(drop=True)\n",
        "    toyo5\n",
        "else:\n",
        "    final_model=smf.ols('Price~Age+KM+HP+CC+Doors+Gears+QT+Weight',data=toyo5).fit()\n",
        "    final_model.rsquared , final_model.aic\n",
        "    print(\"Thus model accuracy is improved to\",final_model.rsquared)"
      ],
      "metadata": {
        "id": "mLMJJALEH8Cx"
      },
      "execution_count": null,
      "outputs": []
    },
    {
      "cell_type": "code",
      "source": [
        "if np.max(c)>0.5:\n",
        "    model=smf.ols('Price~Age+KM+HP+CC+Doors+Gears+QT+Weight',data=toyo5).fit()\n",
        "    (c,_)=model.get_influence().cooks_distance\n",
        "    c\n",
        "    np.argmax(c) , np.max(c)\n",
        "    toyo5=toyo5.drop(toyo5.index[[np.argmax(c)]],axis=0).reset_index(drop=True)\n",
        "    toyo5 \n",
        "elif np.max(c)<0.5:\n",
        "    final_model=smf.ols('Price~Age+KM+HP+CC+Doors+Gears+QT+Weight',data=toyo5).fit()\n",
        "    final_model.rsquared , final_model.aic\n",
        "    print(\"Thus model accuracy is improved to\",final_model.rsquared)"
      ],
      "metadata": {
        "id": "yFaCUWAlIKZr"
      },
      "execution_count": null,
      "outputs": []
    },
    {
      "cell_type": "code",
      "source": [
        "final_model.rsquared"
      ],
      "metadata": {
        "id": "Z7iG5CBqIn27"
      },
      "execution_count": null,
      "outputs": []
    },
    {
      "cell_type": "code",
      "source": [
        "toyo5"
      ],
      "metadata": {
        "id": "eRWCxHPBIrek"
      },
      "execution_count": null,
      "outputs": []
    },
    {
      "cell_type": "markdown",
      "source": [
        "# Model Predictions"
      ],
      "metadata": {
        "id": "PU3KbV2qIyQM"
      }
    },
    {
      "cell_type": "code",
      "source": [
        "new_data=pd.DataFrame({'Age':12,\"KM\":40000,\"HP\":80,\"CC\":1300,\"Doors\":4,\"Gears\":5,\"QT\":69,\"Weight\":1012},index=[0])\n",
        "new_data"
      ],
      "metadata": {
        "id": "r_-SrLnMIuKk"
      },
      "execution_count": null,
      "outputs": []
    },
    {
      "cell_type": "code",
      "source": [
        "final_model.predict(new_data)"
      ],
      "metadata": {
        "id": "-8HMgy8eI4yz"
      },
      "execution_count": null,
      "outputs": []
    },
    {
      "cell_type": "code",
      "source": [
        "pred_y=final_model.predict(toyo5)\n",
        "pred_y"
      ],
      "metadata": {
        "id": "U-nBmFGzI8X1"
      },
      "execution_count": null,
      "outputs": []
    },
    {
      "cell_type": "code",
      "source": [
        ""
      ],
      "metadata": {
        "id": "1G7xkLtAI_E6"
      },
      "execution_count": null,
      "outputs": []
    }
  ]
}